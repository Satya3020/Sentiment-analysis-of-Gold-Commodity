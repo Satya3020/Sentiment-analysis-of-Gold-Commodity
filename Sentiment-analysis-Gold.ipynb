{
 "cells": [
  {
   "cell_type": "code",
   "execution_count": 44,
   "id": "6cfbac09",
   "metadata": {},
   "outputs": [],
   "source": [
    "import numpy as np\n",
    "import pandas as pd\n",
    "import matplotlib.pyplot as plt\n",
    "import seaborn as sns\n",
    "import re\n",
    "import string\n",
    "from sklearn.model_selection import train_test_split\n",
    "from sklearn.feature_extraction.text import TfidfVectorizer\n",
    "from sklearn.linear_model import LogisticRegression\n",
    "from sklearn.metrics import confusion_matrix\n",
    "from sklearn.metrics import accuracy_score\n",
    "from sklearn.svm import SVC\n",
    "import pickle"
   ]
  },
  {
   "cell_type": "code",
   "execution_count": 24,
   "id": "724d11f9",
   "metadata": {},
   "outputs": [],
   "source": [
    "df=pd.read_csv(\"C:/Users/satya/Downloads/archive (3)/gold-dataset-sinha-khandait.csv\")"
   ]
  },
  {
   "cell_type": "code",
   "execution_count": 25,
   "id": "6a8048d6",
   "metadata": {},
   "outputs": [
    {
     "data": {
      "text/html": [
       "<div>\n",
       "<style scoped>\n",
       "    .dataframe tbody tr th:only-of-type {\n",
       "        vertical-align: middle;\n",
       "    }\n",
       "\n",
       "    .dataframe tbody tr th {\n",
       "        vertical-align: top;\n",
       "    }\n",
       "\n",
       "    .dataframe thead th {\n",
       "        text-align: right;\n",
       "    }\n",
       "</style>\n",
       "<table border=\"1\" class=\"dataframe\">\n",
       "  <thead>\n",
       "    <tr style=\"text-align: right;\">\n",
       "      <th></th>\n",
       "      <th>Dates</th>\n",
       "      <th>URL</th>\n",
       "      <th>News</th>\n",
       "      <th>Price Direction Up</th>\n",
       "      <th>Price Direction Constant</th>\n",
       "      <th>Price Direction Down</th>\n",
       "      <th>Asset Comparision</th>\n",
       "      <th>Past Information</th>\n",
       "      <th>Future Information</th>\n",
       "      <th>Price Sentiment</th>\n",
       "    </tr>\n",
       "  </thead>\n",
       "  <tbody>\n",
       "    <tr>\n",
       "      <th>0</th>\n",
       "      <td>28-01-2016</td>\n",
       "      <td>http://www.marketwatch.com/story/april-gold-do...</td>\n",
       "      <td>april gold down 20 cents to settle at $1,116.1...</td>\n",
       "      <td>0</td>\n",
       "      <td>0</td>\n",
       "      <td>1</td>\n",
       "      <td>0</td>\n",
       "      <td>1</td>\n",
       "      <td>0</td>\n",
       "      <td>negative</td>\n",
       "    </tr>\n",
       "    <tr>\n",
       "      <th>1</th>\n",
       "      <td>13-09-2017</td>\n",
       "      <td>http://www.marketwatch.com/story/gold-prices-s...</td>\n",
       "      <td>gold suffers third straight daily decline</td>\n",
       "      <td>0</td>\n",
       "      <td>0</td>\n",
       "      <td>1</td>\n",
       "      <td>0</td>\n",
       "      <td>1</td>\n",
       "      <td>0</td>\n",
       "      <td>negative</td>\n",
       "    </tr>\n",
       "    <tr>\n",
       "      <th>2</th>\n",
       "      <td>26-07-2016</td>\n",
       "      <td>http://www.marketwatch.com/story/gold-futures-...</td>\n",
       "      <td>Gold futures edge up after two-session decline</td>\n",
       "      <td>1</td>\n",
       "      <td>0</td>\n",
       "      <td>0</td>\n",
       "      <td>0</td>\n",
       "      <td>1</td>\n",
       "      <td>0</td>\n",
       "      <td>positive</td>\n",
       "    </tr>\n",
       "    <tr>\n",
       "      <th>3</th>\n",
       "      <td>28-02-2018</td>\n",
       "      <td>https://www.metalsdaily.com/link/277199/dent-r...</td>\n",
       "      <td>dent research : is gold's day in the sun comin...</td>\n",
       "      <td>0</td>\n",
       "      <td>0</td>\n",
       "      <td>0</td>\n",
       "      <td>0</td>\n",
       "      <td>0</td>\n",
       "      <td>1</td>\n",
       "      <td>none</td>\n",
       "    </tr>\n",
       "    <tr>\n",
       "      <th>4</th>\n",
       "      <td>06-09-2017</td>\n",
       "      <td>http://www.marketwatch.com/story/gold-steadies...</td>\n",
       "      <td>Gold snaps three-day rally as Trump, lawmakers...</td>\n",
       "      <td>0</td>\n",
       "      <td>0</td>\n",
       "      <td>1</td>\n",
       "      <td>0</td>\n",
       "      <td>1</td>\n",
       "      <td>0</td>\n",
       "      <td>negative</td>\n",
       "    </tr>\n",
       "    <tr>\n",
       "      <th>...</th>\n",
       "      <td>...</td>\n",
       "      <td>...</td>\n",
       "      <td>...</td>\n",
       "      <td>...</td>\n",
       "      <td>...</td>\n",
       "      <td>...</td>\n",
       "      <td>...</td>\n",
       "      <td>...</td>\n",
       "      <td>...</td>\n",
       "      <td>...</td>\n",
       "    </tr>\n",
       "    <tr>\n",
       "      <th>10565</th>\n",
       "      <td>07-01-2013</td>\n",
       "      <td>https://www.moneycontrol.com/news/business/mar...</td>\n",
       "      <td>gold seen falling from 3-week high this week</td>\n",
       "      <td>0</td>\n",
       "      <td>0</td>\n",
       "      <td>1</td>\n",
       "      <td>0</td>\n",
       "      <td>1</td>\n",
       "      <td>0</td>\n",
       "      <td>negative</td>\n",
       "    </tr>\n",
       "    <tr>\n",
       "      <th>10566</th>\n",
       "      <td>27-09-2018</td>\n",
       "      <td>https://www.metalsdaily.com/link/284468/domini...</td>\n",
       "      <td>dominic frisby : now looks like a good time to...</td>\n",
       "      <td>1</td>\n",
       "      <td>0</td>\n",
       "      <td>0</td>\n",
       "      <td>0</td>\n",
       "      <td>0</td>\n",
       "      <td>1</td>\n",
       "      <td>positive</td>\n",
       "    </tr>\n",
       "    <tr>\n",
       "      <th>10567</th>\n",
       "      <td>03-03-2017</td>\n",
       "      <td>https://www.thehindubusinessline.com/markets/g...</td>\n",
       "      <td>Gold heading for worst week since November on ...</td>\n",
       "      <td>0</td>\n",
       "      <td>0</td>\n",
       "      <td>1</td>\n",
       "      <td>0</td>\n",
       "      <td>1</td>\n",
       "      <td>0</td>\n",
       "      <td>negative</td>\n",
       "    </tr>\n",
       "    <tr>\n",
       "      <th>10568</th>\n",
       "      <td>11-06-2008</td>\n",
       "      <td>http://www.marketwatch.com/story/august-gold-u...</td>\n",
       "      <td>august gold up $7.60 at $878.80 an ounce on nymex</td>\n",
       "      <td>1</td>\n",
       "      <td>0</td>\n",
       "      <td>0</td>\n",
       "      <td>0</td>\n",
       "      <td>1</td>\n",
       "      <td>0</td>\n",
       "      <td>positive</td>\n",
       "    </tr>\n",
       "    <tr>\n",
       "      <th>10569</th>\n",
       "      <td>01-10-2007</td>\n",
       "      <td>http://www.marketwatch.com/story/december-gold...</td>\n",
       "      <td>december gold down $1 at $749 an ounce on nymex</td>\n",
       "      <td>0</td>\n",
       "      <td>0</td>\n",
       "      <td>1</td>\n",
       "      <td>0</td>\n",
       "      <td>1</td>\n",
       "      <td>0</td>\n",
       "      <td>negative</td>\n",
       "    </tr>\n",
       "  </tbody>\n",
       "</table>\n",
       "<p>10570 rows × 10 columns</p>\n",
       "</div>"
      ],
      "text/plain": [
       "            Dates                                                URL  \\\n",
       "0      28-01-2016  http://www.marketwatch.com/story/april-gold-do...   \n",
       "1      13-09-2017  http://www.marketwatch.com/story/gold-prices-s...   \n",
       "2      26-07-2016  http://www.marketwatch.com/story/gold-futures-...   \n",
       "3      28-02-2018  https://www.metalsdaily.com/link/277199/dent-r...   \n",
       "4      06-09-2017  http://www.marketwatch.com/story/gold-steadies...   \n",
       "...           ...                                                ...   \n",
       "10565  07-01-2013  https://www.moneycontrol.com/news/business/mar...   \n",
       "10566  27-09-2018  https://www.metalsdaily.com/link/284468/domini...   \n",
       "10567  03-03-2017  https://www.thehindubusinessline.com/markets/g...   \n",
       "10568  11-06-2008  http://www.marketwatch.com/story/august-gold-u...   \n",
       "10569  01-10-2007  http://www.marketwatch.com/story/december-gold...   \n",
       "\n",
       "                                                    News  Price Direction Up  \\\n",
       "0      april gold down 20 cents to settle at $1,116.1...                   0   \n",
       "1              gold suffers third straight daily decline                   0   \n",
       "2         Gold futures edge up after two-session decline                   1   \n",
       "3      dent research : is gold's day in the sun comin...                   0   \n",
       "4      Gold snaps three-day rally as Trump, lawmakers...                   0   \n",
       "...                                                  ...                 ...   \n",
       "10565       gold seen falling from 3-week high this week                   0   \n",
       "10566  dominic frisby : now looks like a good time to...                   1   \n",
       "10567  Gold heading for worst week since November on ...                   0   \n",
       "10568  august gold up $7.60 at $878.80 an ounce on nymex                   1   \n",
       "10569    december gold down $1 at $749 an ounce on nymex                   0   \n",
       "\n",
       "       Price Direction Constant  Price Direction Down  Asset Comparision  \\\n",
       "0                             0                     1                  0   \n",
       "1                             0                     1                  0   \n",
       "2                             0                     0                  0   \n",
       "3                             0                     0                  0   \n",
       "4                             0                     1                  0   \n",
       "...                         ...                   ...                ...   \n",
       "10565                         0                     1                  0   \n",
       "10566                         0                     0                  0   \n",
       "10567                         0                     1                  0   \n",
       "10568                         0                     0                  0   \n",
       "10569                         0                     1                  0   \n",
       "\n",
       "       Past Information  Future Information Price Sentiment  \n",
       "0                     1                   0        negative  \n",
       "1                     1                   0        negative  \n",
       "2                     1                   0        positive  \n",
       "3                     0                   1            none  \n",
       "4                     1                   0        negative  \n",
       "...                 ...                 ...             ...  \n",
       "10565                 1                   0        negative  \n",
       "10566                 0                   1        positive  \n",
       "10567                 1                   0        negative  \n",
       "10568                 1                   0        positive  \n",
       "10569                 1                   0        negative  \n",
       "\n",
       "[10570 rows x 10 columns]"
      ]
     },
     "execution_count": 25,
     "metadata": {},
     "output_type": "execute_result"
    }
   ],
   "source": [
    "df"
   ]
  },
  {
   "cell_type": "code",
   "execution_count": 26,
   "id": "76543b2e",
   "metadata": {},
   "outputs": [
    {
     "data": {
      "text/plain": [
       "(10570, 10)"
      ]
     },
     "execution_count": 26,
     "metadata": {},
     "output_type": "execute_result"
    }
   ],
   "source": [
    "df.shape"
   ]
  },
  {
   "cell_type": "code",
   "execution_count": 27,
   "id": "94ed15f9",
   "metadata": {},
   "outputs": [
    {
     "name": "stdout",
     "output_type": "stream",
     "text": [
      "<class 'pandas.core.frame.DataFrame'>\n",
      "RangeIndex: 10570 entries, 0 to 10569\n",
      "Data columns (total 10 columns):\n",
      " #   Column                    Non-Null Count  Dtype \n",
      "---  ------                    --------------  ----- \n",
      " 0   Dates                     10570 non-null  object\n",
      " 1   URL                       10570 non-null  object\n",
      " 2   News                      10570 non-null  object\n",
      " 3   Price Direction Up        10570 non-null  int64 \n",
      " 4   Price Direction Constant  10570 non-null  int64 \n",
      " 5   Price Direction Down      10570 non-null  int64 \n",
      " 6   Asset Comparision         10570 non-null  int64 \n",
      " 7   Past Information          10570 non-null  int64 \n",
      " 8   Future Information        10570 non-null  int64 \n",
      " 9   Price Sentiment           10570 non-null  object\n",
      "dtypes: int64(6), object(4)\n",
      "memory usage: 825.9+ KB\n"
     ]
    }
   ],
   "source": [
    "df.info()"
   ]
  },
  {
   "cell_type": "code",
   "execution_count": 28,
   "id": "12447753",
   "metadata": {},
   "outputs": [
    {
     "data": {
      "text/plain": [
       "Dates                       0\n",
       "URL                         0\n",
       "News                        0\n",
       "Price Direction Up          0\n",
       "Price Direction Constant    0\n",
       "Price Direction Down        0\n",
       "Asset Comparision           0\n",
       "Past Information            0\n",
       "Future Information          0\n",
       "Price Sentiment             0\n",
       "dtype: int64"
      ]
     },
     "execution_count": 28,
     "metadata": {},
     "output_type": "execute_result"
    }
   ],
   "source": [
    "df.isnull().sum()"
   ]
  },
  {
   "cell_type": "code",
   "execution_count": 29,
   "id": "db28e7ae",
   "metadata": {},
   "outputs": [],
   "source": [
    "import re\n",
    "import string\n",
    "\n",
    "\n",
    "def text_clean_1(text):\n",
    "\n",
    "    text = text.lower() #converts to Lower—case or upper case\n",
    "\n",
    "    text = re.sub('\\[.*?\\]','', text) \n",
    "\n",
    "    text = re.sub('[%s]' % re.escape(string.punctuation), '', text) \n",
    "    text = re.sub('\\w*\\d\\w*','', text)\n",
    "    text = re.sub('[,\"\"...]','',text)\n",
    "    text = re.sub('\\n','', text)\n",
    "\n",
    "    return text\n",
    "\n",
    "Cleaned_News = lambda x: text_clean_1(x)"
   ]
  },
  {
   "cell_type": "code",
   "execution_count": 30,
   "id": "3b1c8001",
   "metadata": {},
   "outputs": [
    {
     "data": {
      "text/html": [
       "<div>\n",
       "<style scoped>\n",
       "    .dataframe tbody tr th:only-of-type {\n",
       "        vertical-align: middle;\n",
       "    }\n",
       "\n",
       "    .dataframe tbody tr th {\n",
       "        vertical-align: top;\n",
       "    }\n",
       "\n",
       "    .dataframe thead th {\n",
       "        text-align: right;\n",
       "    }\n",
       "</style>\n",
       "<table border=\"1\" class=\"dataframe\">\n",
       "  <thead>\n",
       "    <tr style=\"text-align: right;\">\n",
       "      <th></th>\n",
       "      <th>Dates</th>\n",
       "      <th>URL</th>\n",
       "      <th>News</th>\n",
       "      <th>Price Direction Up</th>\n",
       "      <th>Price Direction Constant</th>\n",
       "      <th>Price Direction Down</th>\n",
       "      <th>Asset Comparision</th>\n",
       "      <th>Past Information</th>\n",
       "      <th>Future Information</th>\n",
       "      <th>Price Sentiment</th>\n",
       "      <th>Cleaned_News</th>\n",
       "    </tr>\n",
       "  </thead>\n",
       "  <tbody>\n",
       "    <tr>\n",
       "      <th>0</th>\n",
       "      <td>28-01-2016</td>\n",
       "      <td>http://www.marketwatch.com/story/april-gold-do...</td>\n",
       "      <td>april gold down 20 cents to settle at $1,116.1...</td>\n",
       "      <td>0</td>\n",
       "      <td>0</td>\n",
       "      <td>1</td>\n",
       "      <td>0</td>\n",
       "      <td>1</td>\n",
       "      <td>0</td>\n",
       "      <td>negative</td>\n",
       "      <td>april gold down  cents to settle at</td>\n",
       "    </tr>\n",
       "    <tr>\n",
       "      <th>1</th>\n",
       "      <td>13-09-2017</td>\n",
       "      <td>http://www.marketwatch.com/story/gold-prices-s...</td>\n",
       "      <td>gold suffers third straight daily decline</td>\n",
       "      <td>0</td>\n",
       "      <td>0</td>\n",
       "      <td>1</td>\n",
       "      <td>0</td>\n",
       "      <td>1</td>\n",
       "      <td>0</td>\n",
       "      <td>negative</td>\n",
       "      <td>gold suffers third straight daily decline</td>\n",
       "    </tr>\n",
       "    <tr>\n",
       "      <th>2</th>\n",
       "      <td>26-07-2016</td>\n",
       "      <td>http://www.marketwatch.com/story/gold-futures-...</td>\n",
       "      <td>Gold futures edge up after two-session decline</td>\n",
       "      <td>1</td>\n",
       "      <td>0</td>\n",
       "      <td>0</td>\n",
       "      <td>0</td>\n",
       "      <td>1</td>\n",
       "      <td>0</td>\n",
       "      <td>positive</td>\n",
       "      <td>gold futures edge up after twosession decline</td>\n",
       "    </tr>\n",
       "    <tr>\n",
       "      <th>3</th>\n",
       "      <td>28-02-2018</td>\n",
       "      <td>https://www.metalsdaily.com/link/277199/dent-r...</td>\n",
       "      <td>dent research : is gold's day in the sun comin...</td>\n",
       "      <td>0</td>\n",
       "      <td>0</td>\n",
       "      <td>0</td>\n",
       "      <td>0</td>\n",
       "      <td>0</td>\n",
       "      <td>1</td>\n",
       "      <td>none</td>\n",
       "      <td>dent research  is golds day in the sun coming ...</td>\n",
       "    </tr>\n",
       "    <tr>\n",
       "      <th>4</th>\n",
       "      <td>06-09-2017</td>\n",
       "      <td>http://www.marketwatch.com/story/gold-steadies...</td>\n",
       "      <td>Gold snaps three-day rally as Trump, lawmakers...</td>\n",
       "      <td>0</td>\n",
       "      <td>0</td>\n",
       "      <td>1</td>\n",
       "      <td>0</td>\n",
       "      <td>1</td>\n",
       "      <td>0</td>\n",
       "      <td>negative</td>\n",
       "      <td>gold snaps threeday rally as trump lawmakers r...</td>\n",
       "    </tr>\n",
       "    <tr>\n",
       "      <th>5</th>\n",
       "      <td>16-08-2016</td>\n",
       "      <td>http://www.marketwatch.com/story/dec-gold-clim...</td>\n",
       "      <td>Dec. gold climbs $9.40, or 0.7%, to settle at ...</td>\n",
       "      <td>1</td>\n",
       "      <td>0</td>\n",
       "      <td>0</td>\n",
       "      <td>0</td>\n",
       "      <td>1</td>\n",
       "      <td>0</td>\n",
       "      <td>positive</td>\n",
       "      <td>dec gold climbs  or  to settle at</td>\n",
       "    </tr>\n",
       "    <tr>\n",
       "      <th>6</th>\n",
       "      <td>24-09-2013</td>\n",
       "      <td>https://economictimes.indiatimes.com/markets/c...</td>\n",
       "      <td>gold falls by rs 25 on sluggish demand, global...</td>\n",
       "      <td>0</td>\n",
       "      <td>0</td>\n",
       "      <td>1</td>\n",
       "      <td>0</td>\n",
       "      <td>1</td>\n",
       "      <td>0</td>\n",
       "      <td>negative</td>\n",
       "      <td>gold falls by rs  on sluggish demand global cues</td>\n",
       "    </tr>\n",
       "    <tr>\n",
       "      <th>7</th>\n",
       "      <td>23-09-2016</td>\n",
       "      <td>http://www.marketwatch.com/story/gold-futures-...</td>\n",
       "      <td>Gold futures fall for the session, but gain fo...</td>\n",
       "      <td>1</td>\n",
       "      <td>0</td>\n",
       "      <td>1</td>\n",
       "      <td>0</td>\n",
       "      <td>1</td>\n",
       "      <td>0</td>\n",
       "      <td>positive</td>\n",
       "      <td>gold futures fall for the session but gain for...</td>\n",
       "    </tr>\n",
       "    <tr>\n",
       "      <th>8</th>\n",
       "      <td>21-10-2012</td>\n",
       "      <td>https://www.thehindubusinessline.com/opinion/c...</td>\n",
       "      <td>Gold struggles; silver slides, base metals falter</td>\n",
       "      <td>0</td>\n",
       "      <td>1</td>\n",
       "      <td>0</td>\n",
       "      <td>1</td>\n",
       "      <td>1</td>\n",
       "      <td>0</td>\n",
       "      <td>neutral</td>\n",
       "      <td>gold struggles silver slides base metals falter</td>\n",
       "    </tr>\n",
       "    <tr>\n",
       "      <th>9</th>\n",
       "      <td>16-03-2018</td>\n",
       "      <td>http://www.marketwatch.com/story/april-gold-ho...</td>\n",
       "      <td>april gold holds slight gain, up $2.50, or 0.2...</td>\n",
       "      <td>1</td>\n",
       "      <td>0</td>\n",
       "      <td>0</td>\n",
       "      <td>0</td>\n",
       "      <td>1</td>\n",
       "      <td>0</td>\n",
       "      <td>positive</td>\n",
       "      <td>april gold holds slight gain up  or  at</td>\n",
       "    </tr>\n",
       "  </tbody>\n",
       "</table>\n",
       "</div>"
      ],
      "text/plain": [
       "        Dates                                                URL  \\\n",
       "0  28-01-2016  http://www.marketwatch.com/story/april-gold-do...   \n",
       "1  13-09-2017  http://www.marketwatch.com/story/gold-prices-s...   \n",
       "2  26-07-2016  http://www.marketwatch.com/story/gold-futures-...   \n",
       "3  28-02-2018  https://www.metalsdaily.com/link/277199/dent-r...   \n",
       "4  06-09-2017  http://www.marketwatch.com/story/gold-steadies...   \n",
       "5  16-08-2016  http://www.marketwatch.com/story/dec-gold-clim...   \n",
       "6  24-09-2013  https://economictimes.indiatimes.com/markets/c...   \n",
       "7  23-09-2016  http://www.marketwatch.com/story/gold-futures-...   \n",
       "8  21-10-2012  https://www.thehindubusinessline.com/opinion/c...   \n",
       "9  16-03-2018  http://www.marketwatch.com/story/april-gold-ho...   \n",
       "\n",
       "                                                News  Price Direction Up  \\\n",
       "0  april gold down 20 cents to settle at $1,116.1...                   0   \n",
       "1          gold suffers third straight daily decline                   0   \n",
       "2     Gold futures edge up after two-session decline                   1   \n",
       "3  dent research : is gold's day in the sun comin...                   0   \n",
       "4  Gold snaps three-day rally as Trump, lawmakers...                   0   \n",
       "5  Dec. gold climbs $9.40, or 0.7%, to settle at ...                   1   \n",
       "6  gold falls by rs 25 on sluggish demand, global...                   0   \n",
       "7  Gold futures fall for the session, but gain fo...                   1   \n",
       "8  Gold struggles; silver slides, base metals falter                   0   \n",
       "9  april gold holds slight gain, up $2.50, or 0.2...                   1   \n",
       "\n",
       "   Price Direction Constant  Price Direction Down  Asset Comparision  \\\n",
       "0                         0                     1                  0   \n",
       "1                         0                     1                  0   \n",
       "2                         0                     0                  0   \n",
       "3                         0                     0                  0   \n",
       "4                         0                     1                  0   \n",
       "5                         0                     0                  0   \n",
       "6                         0                     1                  0   \n",
       "7                         0                     1                  0   \n",
       "8                         1                     0                  1   \n",
       "9                         0                     0                  0   \n",
       "\n",
       "   Past Information  Future Information Price Sentiment  \\\n",
       "0                 1                   0        negative   \n",
       "1                 1                   0        negative   \n",
       "2                 1                   0        positive   \n",
       "3                 0                   1            none   \n",
       "4                 1                   0        negative   \n",
       "5                 1                   0        positive   \n",
       "6                 1                   0        negative   \n",
       "7                 1                   0        positive   \n",
       "8                 1                   0         neutral   \n",
       "9                 1                   0        positive   \n",
       "\n",
       "                                        Cleaned_News  \n",
       "0               april gold down  cents to settle at   \n",
       "1          gold suffers third straight daily decline  \n",
       "2      gold futures edge up after twosession decline  \n",
       "3  dent research  is golds day in the sun coming ...  \n",
       "4  gold snaps threeday rally as trump lawmakers r...  \n",
       "5                 dec gold climbs  or  to settle at   \n",
       "6   gold falls by rs  on sluggish demand global cues  \n",
       "7  gold futures fall for the session but gain for...  \n",
       "8    gold struggles silver slides base metals falter  \n",
       "9           april gold holds slight gain up  or  at   "
      ]
     },
     "execution_count": 30,
     "metadata": {},
     "output_type": "execute_result"
    }
   ],
   "source": [
    "df['Cleaned_News']=pd.DataFrame(df.News.apply(Cleaned_News))\n",
    "df.head(10)"
   ]
  },
  {
   "cell_type": "code",
   "execution_count": 32,
   "id": "6032cee0",
   "metadata": {},
   "outputs": [],
   "source": [
    "x = df['News']\n",
    "y = df['Price Sentiment'] "
   ]
  },
  {
   "cell_type": "code",
   "execution_count": 33,
   "id": "6a8322a8",
   "metadata": {},
   "outputs": [
    {
     "name": "stdout",
     "output_type": "stream",
     "text": [
      "x_train: 8456\n",
      "x_test: 2114\n",
      "y_train: 8456\n",
      "y_test: 2114\n"
     ]
    }
   ],
   "source": [
    "from sklearn.model_selection import train_test_split\n",
    "x_train,x_test,y_train,y_test=train_test_split(x,y,test_size=0.2,random_state=0)\n",
    "print(\"x_train:\",len(x_train))\n",
    "print(\"x_test:\",len(x_test))\n",
    "print(\"y_train:\",len(y_train))\n",
    "print(\"y_test:\",len(y_test))"
   ]
  },
  {
   "cell_type": "code",
   "execution_count": 34,
   "id": "b5888176",
   "metadata": {},
   "outputs": [],
   "source": [
    "from sklearn.feature_extraction.text import TfidfVectorizer\n",
    "from sklearn.linear_model import LogisticRegression\n",
    "tvec = TfidfVectorizer()\n",
    "clf2 = LogisticRegression()"
   ]
  },
  {
   "cell_type": "code",
   "execution_count": 45,
   "id": "d88779f4",
   "metadata": {},
   "outputs": [
    {
     "name": "stderr",
     "output_type": "stream",
     "text": [
      "C:\\Users\\satya\\anaconda\\lib\\site-packages\\sklearn\\linear_model\\_logistic.py:458: ConvergenceWarning: lbfgs failed to converge (status=1):\n",
      "STOP: TOTAL NO. of ITERATIONS REACHED LIMIT.\n",
      "\n",
      "Increase the number of iterations (max_iter) or scale the data as shown in:\n",
      "    https://scikit-learn.org/stable/modules/preprocessing.html\n",
      "Please also refer to the documentation for alternative solver options:\n",
      "    https://scikit-learn.org/stable/modules/linear_model.html#logistic-regression\n",
      "  n_iter_i = _check_optimize_result(\n"
     ]
    },
    {
     "data": {
      "text/plain": [
       "array([[700,  14,  21,  27],\n",
       "       [  1,  50,   1,   3],\n",
       "       [ 33,   9, 331,  44],\n",
       "       [ 35,  16,  38, 791]], dtype=int64)"
      ]
     },
     "execution_count": 45,
     "metadata": {},
     "output_type": "execute_result"
    }
   ],
   "source": [
    "from sklearn.pipeline import Pipeline\n",
    "model = Pipeline([('vectorizer',tvec),('classifier',clf2)])\n",
    "model.fit(x_train,y_train)\n",
    "from sklearn.metrics import confusion_matrix\n",
    "predictions = model.predict(x_test)\n",
    "pred_train=model.predict(x_train)\n",
    "confusion_matrix(predictions,y_test)"
   ]
  },
  {
   "cell_type": "code",
   "execution_count": 36,
   "id": "9c74347a",
   "metadata": {},
   "outputs": [],
   "source": [
    "from sklearn.feature_extraction.text import TfidfVectorizer\n",
    "from sklearn.svm import SVC\n",
    "svm=SVC(kernel='linear')\n",
    "tvec=TfidfVectorizer()"
   ]
  },
  {
   "cell_type": "code",
   "execution_count": 46,
   "id": "dd3f38b8",
   "metadata": {},
   "outputs": [
    {
     "data": {
      "text/plain": [
       "array([[700,  14,  21,  27],\n",
       "       [  1,  50,   1,   3],\n",
       "       [ 33,   9, 331,  44],\n",
       "       [ 35,  16,  38, 791]], dtype=int64)"
      ]
     },
     "execution_count": 46,
     "metadata": {},
     "output_type": "execute_result"
    }
   ],
   "source": [
    "model2=Pipeline([('vectorizer',tvec),('classifier',svm)])\n",
    "model2.fit(x_train,y_train)\n",
    "from sklearn.metrics import confusion_matrix\n",
    "predictions2=model.predict(x_test)\n",
    "pred2_train=model.predict(x_train)\n",
    "confusion_matrix(predictions2,y_test)"
   ]
  },
  {
   "cell_type": "code",
   "execution_count": 38,
   "id": "266a5479",
   "metadata": {},
   "outputs": [
    {
     "name": "stdout",
     "output_type": "stream",
     "text": [
      "['neutral']\n"
     ]
    }
   ],
   "source": [
    "example = [\"gold to trade in 28670-29160 range: achiievers equities\"]\n",
    "result = model.predict(example)\n",
    "print(result)"
   ]
  },
  {
   "cell_type": "code",
   "execution_count": 39,
   "id": "f1d2c3ff",
   "metadata": {},
   "outputs": [
    {
     "name": "stdout",
     "output_type": "stream",
     "text": [
      "              precision    recall  f1-score   support\n",
      "\n",
      "    negative       0.92      0.91      0.91       769\n",
      "     neutral       0.91      0.56      0.69        89\n",
      "        none       0.79      0.85      0.82       391\n",
      "    positive       0.90      0.91      0.91       865\n",
      "\n",
      "    accuracy                           0.89      2114\n",
      "   macro avg       0.88      0.81      0.83      2114\n",
      "weighted avg       0.89      0.89      0.88      2114\n",
      "\n"
     ]
    }
   ],
   "source": [
    "from sklearn.metrics import classification_report\n",
    "\n",
    "print(classification_report(y_test, predictions))"
   ]
  },
  {
   "cell_type": "code",
   "execution_count": 40,
   "id": "157fd531",
   "metadata": {},
   "outputs": [
    {
     "name": "stdout",
     "output_type": "stream",
     "text": [
      "              precision    recall  f1-score   support\n",
      "\n",
      "    negative       0.92      0.91      0.91       769\n",
      "     neutral       0.91      0.56      0.69        89\n",
      "        none       0.79      0.85      0.82       391\n",
      "    positive       0.90      0.91      0.91       865\n",
      "\n",
      "    accuracy                           0.89      2114\n",
      "   macro avg       0.88      0.81      0.83      2114\n",
      "weighted avg       0.89      0.89      0.88      2114\n",
      "\n"
     ]
    }
   ],
   "source": [
    "from sklearn.metrics import classification_report\n",
    "\n",
    "print(classification_report(y_test, predictions2))"
   ]
  },
  {
   "cell_type": "code",
   "execution_count": 41,
   "id": "4ecd4ca1",
   "metadata": {},
   "outputs": [
    {
     "name": "stdout",
     "output_type": "stream",
     "text": [
      "Accuracy_test :  0.8855250709555346\n",
      "Accuracy_train :  0.9329470198675497\n"
     ]
    }
   ],
   "source": [
    "from sklearn.metrics import accuracy_score\n",
    "print(\"Accuracy_test : \", accuracy_score(predictions, y_test))\n",
    "print(\"Accuracy_train : \", accuracy_score(pred_train, y_train))"
   ]
  },
  {
   "cell_type": "code",
   "execution_count": 42,
   "id": "706d3cef",
   "metadata": {},
   "outputs": [
    {
     "name": "stdout",
     "output_type": "stream",
     "text": [
      "Accuracy_test :  0.8855250709555346\n",
      "Accuracy_train :  0.9329470198675497\n"
     ]
    }
   ],
   "source": [
    "from sklearn.metrics import accuracy_score\n",
    "print(\"Accuracy_test : \", accuracy_score(predictions2, y_test))\n",
    "print(\"Accuracy_train : \", accuracy_score(pred2_train, y_train))"
   ]
  },
  {
   "cell_type": "code",
   "execution_count": 49,
   "id": "fec69a1c",
   "metadata": {},
   "outputs": [],
   "source": [
    "import pickle\n",
    "\n",
    "\n",
    "with open('model.pkl', 'wb') as file:\n",
    "    pickle.dump(model, file)"
   ]
  },
  {
   "cell_type": "code",
   "execution_count": 52,
   "id": "b1d8d013",
   "metadata": {},
   "outputs": [
    {
     "name": "stdout",
     "output_type": "stream",
     "text": [
      " * Serving Flask app '__main__'\n",
      " * Debug mode: on\n"
     ]
    },
    {
     "name": "stderr",
     "output_type": "stream",
     "text": [
      "WARNING: This is a development server. Do not use it in a production deployment. Use a production WSGI server instead.\n",
      " * Running on http://127.0.0.1:5000\n",
      "Press CTRL+C to quit\n",
      " * Restarting with watchdog (windowsapi)\n"
     ]
    },
    {
     "ename": "SystemExit",
     "evalue": "1",
     "output_type": "error",
     "traceback": [
      "An exception has occurred, use %tb to see the full traceback.\n",
      "\u001b[1;31mSystemExit\u001b[0m\u001b[1;31m:\u001b[0m 1\n"
     ]
    }
   ],
   "source": [
    "from flask import Flask, render_template, request\n",
    "import pickle\n",
    "\n",
    "app = Flask(__name__)\n",
    "\n",
    "# Load the trained model\n",
    "with open('model.pkl', 'rb') as file:\n",
    "    model = pickle.load(file)\n",
    "\n",
    "@app.route('/')\n",
    "def home():\n",
    "    return render_template('goldpage.html')\n",
    "\n",
    "@app.route('/analyze', methods=['POST'])\n",
    "def analyze():\n",
    "    text = request.form['text']\n",
    "    result = model.predict([text])\n",
    "    return render_template('goldpage.html', text=text, result=result[0])\n",
    "\n",
    "if __name__ == '__main__':\n",
    "    app.run(debug=True)\n"
   ]
  },
  {
   "cell_type": "code",
   "execution_count": 53,
   "id": "c5f8e500",
   "metadata": {},
   "outputs": [
    {
     "data": {
      "text/plain": [
       "1"
      ]
     },
     "execution_count": 53,
     "metadata": {},
     "output_type": "execute_result"
    }
   ],
   "source": [
    "1\n"
   ]
  },
  {
   "cell_type": "code",
   "execution_count": null,
   "id": "f3563eb2",
   "metadata": {},
   "outputs": [],
   "source": []
  }
 ],
 "metadata": {
  "kernelspec": {
   "display_name": "Python 3 (ipykernel)",
   "language": "python",
   "name": "python3"
  },
  "language_info": {
   "codemirror_mode": {
    "name": "ipython",
    "version": 3
   },
   "file_extension": ".py",
   "mimetype": "text/x-python",
   "name": "python",
   "nbconvert_exporter": "python",
   "pygments_lexer": "ipython3",
   "version": "3.10.9"
  }
 },
 "nbformat": 4,
 "nbformat_minor": 5
}
